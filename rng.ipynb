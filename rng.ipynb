{
 "cells": [
  {
   "cell_type": "code",
   "execution_count": null,
   "metadata": {},
   "outputs": [],
   "source": [
    "import pandas as pd\n",
    "import numpy as np"
   ]
  },
  {
   "cell_type": "code",
   "execution_count": 3,
   "metadata": {},
   "outputs": [],
   "source": [
    "\n",
    "df = pd.read_csv(r\"C:\\Users\\019121\\Downloads\\11.csv\")\n"
   ]
  },
  {
   "cell_type": "code",
   "execution_count": 4,
   "metadata": {},
   "outputs": [],
   "source": [
    "df['IT LOAD'] = pd.to_numeric(df['IT LOAD'], errors='coerce')"
   ]
  },
  {
   "cell_type": "code",
   "execution_count": 10,
   "metadata": {},
   "outputs": [],
   "source": [
    "min_value = 1350 \n",
    "max_value = 1500"
   ]
  },
  {
   "cell_type": "code",
   "execution_count": 16,
   "metadata": {},
   "outputs": [],
   "source": [
    "out_of_range = df[(df['IT LOAD'] < min_value) | (df['IT LOAD'] > max_value)]\n"
   ]
  },
  {
   "cell_type": "code",
   "execution_count": 17,
   "metadata": {},
   "outputs": [],
   "source": [
    "out_of_range.to_csv('out_of_range_values.csv', index=False)"
   ]
  },
  {
   "cell_type": "code",
   "execution_count": 18,
   "metadata": {},
   "outputs": [
    {
     "name": "stdout",
     "output_type": "stream",
     "text": [
      "Values not in range:\n",
      "              L1 REPORT  IT LOAD Unnamed: 2 T2-GSB-R-L1 Unnamed: 4 T2-STBY-2  \\\n",
      "3     6/1/2024 00:00:00  1315.55    6642037           0   17823.64         0   \n",
      "4     6/1/2024 01:00:00  1329.96  6643370.5           0   17823.64         0   \n",
      "5     6/1/2024 02:00:00  1328.20    6644702           0   17823.64         0   \n",
      "6     6/1/2024 03:00:00  1325.16    6646032           0   17823.64         0   \n",
      "7     6/1/2024 04:00:00  1321.71  6647355.5           0   17823.64         0   \n",
      "..                  ...      ...        ...         ...        ...       ...   \n",
      "719  6/30/2024 20:00:00  1323.09  7590978.5           0   17823.64         0   \n",
      "720  6/30/2024 21:00:00  1326.88    7592306           0   17823.64         0   \n",
      "721  6/30/2024 22:00:00  1326.86    7593629           0   17823.64         0   \n",
      "722  6/30/2024 23:00:00  1324.14    7594950           0   17823.64         0   \n",
      "723   7/1/2024 00:00:00  1326.51        NaN         NaN        NaN       NaN   \n",
      "\n",
      "    Unnamed: 6   UPS A Unnamed: 8  UPS-1A  ... T2-CRAC-L/P Unnamed: 38  \\\n",
      "3            0  666.57    8326919  166.28  ...        4.82   300560.84   \n",
      "4            0  665.65  8327587.5  166.17  ...        4.14   300565.72   \n",
      "5            0  664.52    8328255  165.65  ...        4.09   300569.84   \n",
      "6            0  662.23    8328922  165.13  ...        4.08   300573.94   \n",
      "7            0  660.72        NaN  164.78  ...        4.09   300578.03   \n",
      "..         ...     ...        ...     ...  ...         ...         ...   \n",
      "719          0  665.64    8802729  165.87  ...         7.9   307041.59   \n",
      "720          0  665.22    8803394  165.78  ...        8.32   307050.72   \n",
      "721          0  664.07    8804057  165.61  ...        6.88   307060.41   \n",
      "722          0  665.05    8804720  165.79  ...        9.36   307069.31   \n",
      "723        NaN     NaN        NaN     NaN  ...         NaN         NaN   \n",
      "\n",
      "    T2-CRAH_UPS_O/P_PANLEL_L1A Unnamed: 40 T2-CRAH_UPS_O/P_PANLEL_L1B  \\\n",
      "3                        92.91   7183033.5                     100.41   \n",
      "4                        92.88   7183126.5                     100.34   \n",
      "5                         92.7   7183219.5                     100.22   \n",
      "6                         92.5     7183312                     100.09   \n",
      "7                        92.74   7183404.5                     100.24   \n",
      "..                         ...         ...                        ...   \n",
      "719                     162.88     7256124                      29.17   \n",
      "720                     162.15   7256286.5                      29.24   \n",
      "721                        163   7256448.5                      29.22   \n",
      "722                     162.47   7256611.5                      29.12   \n",
      "723                        NaN         NaN                        NaN   \n",
      "\n",
      "    Unnamed: 42 T2-CRAH-PANEL-L1A Unnamed: 44 T2-CRAH-PANEL-L1B Unnamed: 46  \n",
      "3     505473.97             45.08     3173784             45.14   195858.08  \n",
      "4     505573.72             45.12  3173829.25             45.11   195903.17  \n",
      "5     505674.63             44.92  3173874.25             44.99    195948.2  \n",
      "6     505774.91             44.94     3173919             44.97   195993.17  \n",
      "7     505874.91             44.99     3173964             44.99   196038.13  \n",
      "..          ...               ...         ...               ...         ...  \n",
      "719   570244.38             73.76     3208342             15.48   225338.81  \n",
      "720   570273.63             73.95  3208415.75             15.51   225354.38  \n",
      "721   570302.75             73.93  3208489.75             15.53   225369.86  \n",
      "722   570331.88             73.89   3208563.5             15.52   225385.42  \n",
      "723         NaN               NaN         NaN               NaN         NaN  \n",
      "\n",
      "[673 rows x 47 columns]\n"
     ]
    },
    {
     "ename": "",
     "evalue": "",
     "output_type": "error",
     "traceback": [
      "\u001b[1;31mThe Kernel crashed while executing code in the current cell or a previous cell. \n",
      "\u001b[1;31mPlease review the code in the cell(s) to identify a possible cause of the failure. \n",
      "\u001b[1;31mClick <a href='https://aka.ms/vscodeJupyterKernelCrash'>here</a> for more info. \n",
      "\u001b[1;31mView Jupyter <a href='command:jupyter.viewOutput'>log</a> for further details."
     ]
    }
   ],
   "source": [
    "print(\"Values not in range:\")\n",
    "print(out_of_range)"
   ]
  }
 ],
 "metadata": {
  "kernelspec": {
   "display_name": "Python 3",
   "language": "python",
   "name": "python3"
  },
  "language_info": {
   "codemirror_mode": {
    "name": "ipython",
    "version": 3
   },
   "file_extension": ".py",
   "mimetype": "text/x-python",
   "name": "python",
   "nbconvert_exporter": "python",
   "pygments_lexer": "ipython3",
   "version": "3.12.4"
  }
 },
 "nbformat": 4,
 "nbformat_minor": 2
}
